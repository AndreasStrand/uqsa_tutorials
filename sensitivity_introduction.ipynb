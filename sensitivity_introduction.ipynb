{
 "cells": [
  {
   "cell_type": "markdown",
   "metadata": {},
   "source": [
    "<!-- dom:TITLE: A practical introduction to sensitivity analysis -->\n",
    "# A practical introduction to sensitivity analysis\n",
    "<!-- dom:AUTHOR: Leif Rune Hellevik at Department of Structural Engineering, NTNU -->\n",
    "<!-- Author: --> **Leif Rune Hellevik**, Department of Structural Engineering, NTNU\n",
    "\n",
    "Date: **Jan 25, 2017**"
   ]
  },
  {
   "cell_type": "code",
   "execution_count": 12,
   "metadata": {
    "collapsed": false
   },
   "outputs": [
    {
     "name": "stdout",
     "output_type": "stream",
     "text": [
      "The autoreload extension is already loaded. To reload it, use:\n",
      "  %reload_ext autoreload\n"
     ]
    }
   ],
   "source": [
    "%matplotlib inline\n",
    "\n",
    "%matplotlib inline\n",
    "%load_ext autoreload\n",
    "%autoreload 2\n",
    "import numpy as np\n",
    "import matplotlib.pyplot as plt\n",
    "import chaospy as cp\n",
    "from numpy import linalg as LA"
   ]
  },
  {
   "cell_type": "markdown",
   "metadata": {},
   "source": [
    "# Introduction\n",
    "labe{sec:introduction}\n",
    "\n",
    "This practical introduction to sensitivity analysis is based on the\n",
    "presentation and examples found in [[saltelli_global_2008]](#saltelli_global_2008). To give\n",
    "the reader an even better hands on expericence of the topic, we have\n",
    "integrated the computations in a python notebook format.\n",
    "\n",
    "Many sensitivity anlyses reported in the literature are based on\n",
    "derviatives at set point or point of interest. Indeed such apporaches\n",
    "are based on the fact that the derivative of $\\partial Y_i/\\partial\n",
    "X_j$ of quantity of interest $Y_i$ as a function of an input variable\n",
    "$X_j$ can be thought of as the mathematical definition of the\n",
    "sensitivity of $Y_i$ versus $X_j$.\n",
    "\n",
    "However, what is important to keep in mind is that local derivatives\n",
    "are only informative at the set point in the parameter space at which\n",
    "they are computed, and do not provide information for the rest of the\n",
    "parameter space. Naturally, such a linearization will matter little\n",
    "for linear models, but for general, nonlinear models, care must be\n",
    "taken.  In particular this is important in situations when the input\n",
    "parameters are uncertain.\n",
    "\n",
    "We will therefore make use of methods based on the exploration of the\n",
    "input parameter space by judiciously selecting samples in that space,\n",
    "which will result in more robust an informative sensitivity measures,\n",
    "than what result from a local derivative at the center of the\n",
    "parameter space.\n",
    "\n",
    "However, to introduce the methods of sensitivity analysis, we shall\n",
    "start from derivatices and illustrate them on a very simple linear\n",
    "model.\n",
    "\n",
    "# A simple linear model\n",
    "\n",
    "As an simple linear model example consider:"
   ]
  },
  {
   "cell_type": "markdown",
   "metadata": {},
   "source": [
    "<!-- Equation labels as ordinary links -->\n",
    "<div id=\"eq:linear_model\"></div>\n",
    "\n",
    "$$\n",
    "\\begin{equation}\n",
    "Y = \\sum_{i=1}^{r} \\Omega_i \\, Z_i\n",
    "\\label{eq:linear_model} \\tag{1}\n",
    "\\end{equation}\n",
    "$$"
   ]
  },
  {
   "cell_type": "markdown",
   "metadata": {},
   "source": [
    "where the input factors are $\\mathbf{X} = (\\Omega_1, \\Omega_2, \\ldots,\n",
    "\\Omega_r, Z_1, Z_2, \\ldots, Z_r)$. For simplicity we assume that the\n",
    "model output $Y$ of [(1)](#eq:linear_model) is a single variable and\n",
    "that the $\\Omega s$ are fixed coefficients or weights."
   ]
  },
  {
   "cell_type": "markdown",
   "metadata": {},
   "source": [
    "$$\n",
    "\\begin{equation}\n",
    " \\Omega_1=\\Omega_2=\\ldots=\\text{constant}\n",
    "\\end{equation}\n",
    "$$"
   ]
  },
  {
   "cell_type": "markdown",
   "metadata": {},
   "source": [
    "Consequently, the true factors of [(1)](#eq:linear_model) are just\n",
    "$(Z_1, Z_2, \\ldots, Z_r)$. The individual variables\n",
    "$Z_i$ are taken to normally distributed with mean zero"
   ]
  },
  {
   "cell_type": "markdown",
   "metadata": {},
   "source": [
    "<!-- Equation labels as ordinary links -->\n",
    "<div id=\"eq:NZi\"></div>\n",
    "\n",
    "$$\n",
    "\\begin{equation} Z_i \\sim N(0, \\sigma_{Z_i}), \\qquad i=1,2, \\ldots, r\n",
    "\\label{eq:NZi} \\tag{2} \\end{equation}\n",
    "$$"
   ]
  },
  {
   "cell_type": "markdown",
   "metadata": {},
   "source": [
    "As the predicted value $Y$ of the model in [(1)](#eq:linear_model) is\n",
    "linear combination of normally distributed factors, it is easy to\n",
    "verify (see exercices in [[saltelli_global_2008]](#saltelli_global_2008)) that $Y$ also will\n",
    "be normally distributed with:"
   ]
  },
  {
   "cell_type": "markdown",
   "metadata": {},
   "source": [
    "<!-- Equation labels as ordinary links -->\n",
    "<div id=\"eq:analytic_mean_std\"></div>\n",
    "\n",
    "$$\n",
    "\\begin{equation}\n",
    "\\bar{y} = \\sum_{i=1}^{r} \\Omega_i \\; \\bar{z}_i, \\qquad \\sigma_Y = \\sqrt{\\sum_{i=1}^{r} \\Omega_i^2 \\, \\sigma_{Z_i}^2}\n",
    "\\label{eq:analytic_mean_std} \\tag{3}\t\n",
    "\\end{equation}\n",
    "$$"
   ]
  },
  {
   "cell_type": "markdown",
   "metadata": {},
   "source": [
    "Furthermore, we order the factors from the most certain to the less\n",
    "certain, i.e.:"
   ]
  },
  {
   "cell_type": "markdown",
   "metadata": {},
   "source": [
    "$$\n",
    "\\begin{equation}\n",
    " \\sigma_{Z_1} <  \\sigma_{Z_2} <  \\ldots  <  \\sigma_{Z_r}\n",
    "\\label{}\n",
    "\\end{equation}\n",
    "$$"
   ]
  },
  {
   "cell_type": "markdown",
   "metadata": {},
   "source": [
    "# Scatterplots versus derivatives\n",
    "\n",
    "We have implemented the simple linear model in [(1)](#eq:linear_model) in python as:"
   ]
  },
  {
   "cell_type": "code",
   "execution_count": 13,
   "metadata": {
    "collapsed": false
   },
   "outputs": [],
   "source": [
    "#  The linear model\n",
    "def linear_model(w,Z,N):\n",
    "    Y=np.zeros(N)\n",
    "    if (w.size>1):\n",
    "        for i in range(len(w)):\n",
    "            Y[:]+=w[i]*Z[i,:]\n",
    "    else:\n",
    "        Y=w*Z\n",
    "\n",
    "    return Y"
   ]
  },
  {
   "cell_type": "markdown",
   "metadata": {},
   "source": [
    "To hold the mean and the standard deviation of all the input factors\n",
    "we use a numpy-array of size $r\\times 2$, with one row per factor,\n",
    "where the first column holds the mean whereas the second column holds\n",
    "the standard deviation. The weights $\\Omega_{1\\ldots r}$ are stored in a numpy-vector."
   ]
  },
  {
   "cell_type": "code",
   "execution_count": 14,
   "metadata": {
    "collapsed": false
   },
   "outputs": [],
   "source": [
    "# Set mean (column 0) and standard deviations (column 1) for each factor z. r factors=nr. rows\n",
    "r=4 # number of factors \n",
    "zm=np.zeros((r,2))\n",
    "zm[0,1]=1\n",
    "zm[1,1]=2\n",
    "zm[2,1]=3\n",
    "zm[3,1]=4\n",
    "\n",
    "# Set the weigth\n",
    "wc=2\n",
    "w=np.ones(r)*wc"
   ]
  },
  {
   "cell_type": "markdown",
   "metadata": {},
   "source": [
    "We may now perform a Monte Carlo experiment on our model by generating $N$ samples from the distributions of each factor and an input sample is thus produced:"
   ]
  },
  {
   "cell_type": "markdown",
   "metadata": {},
   "source": [
    "<!-- Equation labels as ordinary links -->\n",
    "<div id=\"eq:mc_sample\"></div>\n",
    "\n",
    "$$\n",
    "\\begin{equation}\n",
    "\\mathbf{Z} = \\left [\n",
    "\\begin{array}{cccc}\n",
    "Z_{1,1} & Z_{1,2}  & \\ldots & Z_{1,N} \\\\\n",
    "Z_{2,1} & Z_{2,2}  & \\ldots & Z_{2,N}\\\\\n",
    "\\vdots & \\vdots & \\vdots & \\vdots \\\\\n",
    "Z_{r,1} & Z_{r,2}  & \\ldots & Z_{r,N}\n",
    "\\end{array} \n",
    "\\right ]\n",
    "\\label{eq:mc_sample} \\tag{4}\n",
    "\\end{equation}\n",
    "$$"
   ]
  },
  {
   "cell_type": "markdown",
   "metadata": {},
   "source": [
    "We may the compute a value of $Y$ from [(1)](#eq:linear_model) for each\n",
    "column in [(4)](#eq:mc_sample) to produce a solution vector\n",
    "$\\mathbf{Y}$. Having sampled $N$ values from each input factor we may\n",
    "produce $r$ scatter plots, by projecting in turn the $N$ values of\n",
    "$\\mathbf{Y}$ against the $N$ values of each of the $r$ input factors."
   ]
  },
  {
   "cell_type": "markdown",
   "metadata": {},
   "source": [
    "<!-- Equation labels as ordinary links -->\n",
    "<div id=\"eq:mc_solution\"></div>\n",
    "\n",
    "$$\n",
    "\\begin{equation}\n",
    "\\mathbf{Y} = \\left [\n",
    "\\begin{array}{c}\n",
    "y_1 \\\\\n",
    "y_2 \\\\\n",
    "\\vdots \\\\\n",
    "y_N\n",
    "\\end{array}\n",
    "\\right ]\n",
    "\\label{eq:mc_solution} \\tag{5}\n",
    "\\end{equation}\n",
    "$$"
   ]
  },
  {
   "cell_type": "code",
   "execution_count": 15,
   "metadata": {
    "collapsed": false
   },
   "outputs": [
    {
     "data": {
      "image/png": "[encoded data removed]",
      "text/plain": [
       "<matplotlib.figure.Figure at 0x11d273b90>"
      ]
     },
     "metadata": {},
     "output_type": "display_data"
    }
   ],
   "source": [
    "# Genrate distributions for each element in z\n",
    "N=500\n",
    "Z=np.zeros(shape=(r,N))\n",
    "pdf=[]\n",
    "for i, z in enumerate(zm):\n",
    "    pdf.append(cp.Normal(z[0],z[1]))\n",
    "    Z[i,:]=pdf[i].sample(N)\n",
    "\n",
    "Y = linear_model(w,Z,N)\n",
    "\n",
    "# Scatter plots of data for visual inspection of sensitivity \n",
    "plt.figure()\n",
    "for k in range(r):\n",
    "    plt.subplot(2,2,k+1)\n",
    "    plt.plot(Z[k,:],Y[:],'.')\n",
    "    xlbl='Z'+str(k)\n",
    "    plt.xlabel(xlbl)"
   ]
  },
  {
   "cell_type": "markdown",
   "metadata": {},
   "source": [
    "Note that the assumption of independent factors $Z_i$, we may sample\n",
    "each $Z_i$ independently from their marginal distributions and store\n",
    "all the samples for all the factors $Z_i$ in the the numpy array\n",
    "'Z[i,:]', where $i$ corresponds to $Z_i$ as:"
   ]
  },
  {
   "cell_type": "markdown",
   "metadata": {},
   "source": [
    "        pdf.append(pc.Normal(z[0],z[1]))\n",
    "            Z[i,:]=pdf[i].sample(N)\n"
   ]
  },
  {
   "cell_type": "markdown",
   "metadata": {},
   "source": [
    "From the scatterplots generated by the python code above we\n",
    "intuitively get the impression that $Y$ is more sensitive to $Z_4$\n",
    "than to $Z_3$, and that $Y$ is more sensitive to $Z_3$ than to $Z_3$,\n",
    "and that we may order the factors my influence on $Y$ as:"
   ]
  },
  {
   "cell_type": "markdown",
   "metadata": {},
   "source": [
    "<!-- Equation labels as ordinary links -->\n",
    "<div id=\"eq:scatter_plot_rank\"></div>\n",
    "\n",
    "$$\n",
    "\\begin{equation}\n",
    "Z_4 > Z_3 > Z_2 > Z_1 \n",
    "\\label{eq:scatter_plot_rank} \\tag{6}\n",
    "\\end{equation}\n",
    "$$"
   ]
  },
  {
   "cell_type": "markdown",
   "metadata": {},
   "source": [
    "Our intuitive notion of influence is based on that there is more shape\n",
    "(or better pattern) in the plot for $Z_4$ than for $Z_3$ and likewise.\n",
    "\n",
    "For our simple linear model in [(1)](#eq:linear_model) we are in the\n",
    "fortunate situation that we may compute the local derivatives analyticaly:"
   ]
  },
  {
   "cell_type": "markdown",
   "metadata": {},
   "source": [
    "<!-- Equation labels as ordinary links -->\n",
    "<div id=\"eq:Sp\"></div>\n",
    "\n",
    "$$\n",
    "\\begin{equation}\n",
    "S_{Z_i}^{p} = \\frac{\\partial Y}{\\partial Z_i} = \\Omega_i\n",
    "\\label{eq:Sp} \\tag{7}\n",
    "\\end{equation}\n",
    "$$"
   ]
  },
  {
   "cell_type": "markdown",
   "metadata": {},
   "source": [
    "In our code example we set all the $\\Omega_i=2$ for $i=1,\\ldots,4$,\n",
    "and according to the local sensitivity meansure $S_{Z_i}^{p}$ in\n",
    "[(7)](#eq:Sp) all the input factors $Z_i$s are equally important and\n",
    "independent of the variation of each factor. This measure is clearly\n",
    "at odds with the ranking of influence based on the scatterplots in\n",
    "[(6)](#eq:scatter_plot_rank) and is an indication of the usefullness of\n",
    "scatterplots in sensititivy analysis. However, the bidimensional\n",
    "scatterplots may in some cases be deceiving and lead to type II\n",
    "errors (i.e. failure to identify influential parameters). ref to Saltelli 2004...\n",
    "\n",
    "Most sensitivity measures aim to preserve the rich information\n",
    "provided by the scatterplots in a condensed format. The challenge is\n",
    "how to rank the factors rapidly and automatically without having to\n",
    "inspect many scatterplots in situations with many input\n",
    "factors. Another challenge with scatterplots is that sensitivities for\n",
    "sets cannot be visualized, while luckily compact sensitivity measures may be\n",
    "defined in such cases.\n",
    "\n",
    "# Normalized derivatives and standardized regression coefficients\n",
    "\n",
    "## Normalized derivatives\n",
    "A simple way to improve the derivative sensitivity measure $S_{Z_i}^{p}$ in\n",
    "[(7)](#eq:Sp) is to scale the input-output variables with their standard deviations:"
   ]
  },
  {
   "cell_type": "markdown",
   "metadata": {},
   "source": [
    "<!-- Equation labels as ordinary links -->\n",
    "<div id=\"eq:Ss\"></div>\n",
    "\n",
    "$$\n",
    "\\begin{equation}\n",
    "S_{Z_i}^{\\sigma} = \\frac{\\partial Y/\\sigma_Y}{\\partial Z_i/\\sigma_{Z_i}} = \\frac{\\sigma_{Z_i}}{\\sigma_{Y}} \\; \\frac{\\partial Y}{\\partial Z_i}\n",
    "\\label{eq:Ss} \\tag{8}\n",
    "\\end{equation}\n",
    "$$"
   ]
  },
  {
   "cell_type": "markdown",
   "metadata": {},
   "source": [
    "In case of our simple linear model [(1)](#eq:linear_model) we get from\n",
    "[(8)](#eq:Ss):"
   ]
  },
  {
   "cell_type": "markdown",
   "metadata": {},
   "source": [
    "<!-- Equation labels as ordinary links -->\n",
    "<div id=\"eq:Ss_simple\"></div>\n",
    "\n",
    "$$\n",
    "\\begin{equation}\n",
    "\\left (S_{Z_i}^{\\sigma} \\right)^2 = \\left( \\frac{\\sigma_{Z_i}}{\\sigma_{Y}}\\right)^2 \\; \\left (\\frac{\\partial Y}{\\partial Z_i}\\right)^2 = \\left( \\frac{\\sigma_{Z_i}\\, \\Omega_i}{\\sigma_{Y}}\\right)^2 \\;  \\qquad \\textsf{which may be rearranged to:} \\qquad \\sigma_y^2 \\, (S_{Z_i}^{\\sigma})^2 = \\left ( \\Omega_{i} \\sigma_{Y} \\right )^2\n",
    "\\label{eq:Ss_simple} \\tag{9}\n",
    "\\end{equation}\n",
    "$$"
   ]
  },
  {
   "cell_type": "markdown",
   "metadata": {},
   "source": [
    "Based on the linearity of our model we previously found  [(3)](#eq:analytic_mean_std) which also yields:"
   ]
  },
  {
   "cell_type": "markdown",
   "metadata": {},
   "source": [
    "<!-- Equation labels as ordinary links -->\n",
    "<div id=\"eq:Ss_model_ded\"></div>\n",
    "\n",
    "$$\n",
    "\\begin{equation}\n",
    " \\sigma_Y^2 = \\sum_{i=1}^{r} \\left(\\Omega_i^2 \\, \\sigma_{Z_i}\\right)^2\n",
    " \\label{eq:Ss_model_ded} \\tag{10}\n",
    "\\end{equation}\n",
    "$$"
   ]
  },
  {
   "cell_type": "markdown",
   "metadata": {},
   "source": [
    "As both [(10)](#eq:Ss_model_ded) and [(9)](#eq:Ss_simple) must hold simultaneously we get"
   ]
  },
  {
   "cell_type": "markdown",
   "metadata": {},
   "source": [
    "<!-- Equation labels as ordinary links -->\n",
    "<div id=\"eq:Ss1\"></div>\n",
    "\n",
    "$$\n",
    "\\begin{equation}\n",
    "\\left (S_{Z_i}^{\\sigma} \\right)^2=1 \n",
    "\\label{eq:Ss1} \\tag{11}\n",
    "\\end{equation}\n",
    "$$"
   ]
  },
  {
   "cell_type": "markdown",
   "metadata": {},
   "source": [
    "The normalized derivative measure of sensitivity in [(8)](#eq:Ss) is\n",
    "more convincing than [(7)](#eq:Sp): first, as it involves both the\n",
    "weights $\\Omega_i$ and the factors $Z_i$ in [(1)](#eq:linear_model);\n",
    "second as the measures are properly scaled and summarizes to one,\n",
    "which allows for an easy interpretation of the output sensitivity with\n",
    "respect to each of the input factors."
   ]
  },
  {
   "cell_type": "code",
   "execution_count": 16,
   "metadata": {
    "collapsed": false
   },
   "outputs": [
    {
     "name": "stdout",
     "output_type": "stream",
     "text": [
      "s_y= 10.9544511501\n",
      "s= [ 0.18257419  0.36514837  0.54772256  0.73029674] ,   norm(s)= 1.0\n",
      "s^2= [ 0.03333333  0.13333333  0.3         0.53333333]\n"
     ]
    }
   ],
   "source": [
    "#  Theoretical sensitivity indices\n",
    "s_y=np.sqrt(np.sum((w*zm[:,1])**2))\n",
    "print 's_y=',s_y\n",
    "\n",
    "s=w*zm[:,1]/s_y\n",
    "print 's=',s, ',   norm(s)=',LA.norm(s)\n",
    "print 's^2=',s**2"
   ]
  },
  {
   "cell_type": "markdown",
   "metadata": {},
   "source": [
    "Based on our samples from our samples of the input factors and the\n",
    "subsequent model evaluations, we may estimate the standard deviation\n",
    "of $\\mathbf{Y}$ and compute the relative error with respect to the\n",
    "theoretical value. You may change the number of sample above,\n",
    "i.e. $N$, and see how $N$ influence the estimates."
   ]
  },
  {
   "cell_type": "code",
   "execution_count": 17,
   "metadata": {
    "collapsed": false
   },
   "outputs": [
    {
     "name": "stdout",
     "output_type": "stream",
     "text": [
      "std(Y)= 11.2680074482   rel.err= 0.0286236429234\n",
      "0.324267971801 11.2680074482\n"
     ]
    }
   ],
   "source": [
    "#  Sensitivity indices based on sampled values\n",
    "print 'std(Y)=',np.std(Y, 0), '  rel.err=', (np.std(Y, 0)-s_y)/s_y\n",
    "print np.mean(Y,0), np.sqrt(np.var(Y,0))"
   ]
  },
  {
   "cell_type": "markdown",
   "metadata": {},
   "source": [
    "Note that $N$ is the size of our Monte Carlo experiment, corresponding\n",
    "to the number of times we have evaluated our simple linear model\n",
    "[(1)](#eq:linear_model). The evaluation of the model is normally the\n",
    "most computationally expensive part of the analysis, and for that\n",
    "reasons $N$ is referred to as the 'cost' of the analysis.\n",
    "\n",
    "## Linear regression\n",
    "\n",
    "The most popular way of trying to condense the information provided by scatter plots is to try a multiple linear regression:"
   ]
  },
  {
   "cell_type": "markdown",
   "metadata": {},
   "source": [
    "<!-- Equation labels as ordinary links -->\n",
    "<div id=\"eq:meta_model\"></div>\n",
    "\n",
    "$$\n",
    "\\begin{equation}\n",
    "\\hat{Y}_j = b_0 + \\sum_{i=1}^{r} b_j \\, Z_{i,j}\n",
    "\\label{eq:meta_model} \\tag{12}\n",
    "\\end{equation}\n",
    "$$"
   ]
  },
  {
   "cell_type": "markdown",
   "metadata": {},
   "source": [
    "where the coefficients $b_0$ and $b_j$ are found my least-square\n",
    "minimization of the squared differences between the predicted\n",
    "hat-values $\\hat{Y}_j$ from the meta-model [(12)](#eq:meta_model) and\n",
    "the actual model output $Y_j$ produced by the Monte-Carlo simulation:"
   ]
  },
  {
   "cell_type": "markdown",
   "metadata": {},
   "source": [
    "<!-- Equation labels as ordinary links -->\n",
    "<div id=\"eq:lsm\"></div>\n",
    "\n",
    "$$\n",
    "\\begin{equation}\n",
    "SS = \\sum_{j=1}^{N} \\left (Y_j - \\hat{Y}_j \\right)^2  =  \\sum_{j=1}^{N} \\left (Y_j -\\left (b_0 + \\sum_{i=1}^{r} b_j \\, Z_{i,j} \\right ) \\right)^2 \n",
    "\\label{eq:lsm} \\tag{13}\n",
    "\\end{equation}\n",
    "$$"
   ]
  },
  {
   "cell_type": "markdown",
   "metadata": {},
   "source": [
    "As we have generated all the $Y_j$s by a linear model\n",
    "[(1)](#eq:linear_model), which has been feed with the Monte-Carlo\n",
    "samples [(4)](#eq:mc_sample), we excpect that a successfull multiple\n",
    "linear regression analysis will rediscover the original linear model,\n",
    "i.e. $\\hat{b}_0 \\cong 0$ and $\\hat{b}_i \\cong \\Omega_i$ for $i=1,\n",
    "\\ldots, r$, where the hats denote estimates and $\\cong$ means the\n",
    "value which the estimate will converge to the the samples size $N$ is\n",
    "large enough.\n",
    "\n",
    "[Statsmodels](http://statsmodels.sourceforge.net/) is a Python\n",
    "module that allows users to explore data, estimate statistical models,\n",
    "perform statistical tests, and multiple regression analysis. An extensive list of descriptive\n",
    "statistics, statistical tests, plotting functions, and result\n",
    "statistics are available for different types of data and each estimator.\n",
    "\n",
    "Below we have illustrated how such a conventional multiple regression analysis may be carried out with the Statmodels module."
   ]
  },
  {
   "cell_type": "code",
   "execution_count": 18,
   "metadata": {
    "collapsed": false
   },
   "outputs": [
    {
     "name": "stdout",
     "output_type": "stream",
     "text": [
      "                            OLS Regression Results                            \n",
      "==============================================================================\n",
      "Dep. Variable:                      y   R-squared:                       1.000\n",
      "Model:                            OLS   Adj. R-squared:                  1.000\n",
      "Method:                 Least Squares   F-statistic:                 5.506e+31\n",
      "Date:                Wed, 25 Jan 2017   Prob (F-statistic):               0.00\n",
      "Time:                        18:25:43   Log-Likelihood:                 15146.\n",
      "No. Observations:                 500   AIC:                        -3.028e+04\n",
      "Df Residuals:                     496   BIC:                        -3.027e+04\n",
      "Df Model:                           4                                         \n",
      "Covariance Type:            nonrobust                                         \n",
      "==============================================================================\n",
      "                 coef    std err          t      P>|t|      [95.0% Conf. Int.]\n",
      "------------------------------------------------------------------------------\n",
      "x1             2.0000   7.66e-16   2.61e+15      0.000         2.000     2.000\n",
      "x2             2.0000   3.84e-16    5.2e+15      0.000         2.000     2.000\n",
      "x3             2.0000   2.67e-16   7.48e+15      0.000         2.000     2.000\n",
      "x4             2.0000   1.74e-16   1.15e+16      0.000         2.000     2.000\n",
      "==============================================================================\n",
      "Omnibus:                        0.322   Durbin-Watson:                   2.042\n",
      "Prob(Omnibus):                  0.851   Jarque-Bera (JB):                0.436\n",
      "Skew:                           0.029   Prob(JB):                        0.804\n",
      "Kurtosis:                       2.867   Cond. No.                         4.42\n",
      "==============================================================================\n",
      "\n",
      "Warnings:\n",
      "[1] Standard Errors assume that the covariance matrix of the errors is correctly specified.\n",
      "Regression coefficients [ 2.  2.  2.  2.]\n",
      "Rel.error for coefficients: [  7.99360578e-15  -4.44089210e-16  -1.11022302e-15   2.22044605e-16]\n"
     ]
    }
   ],
   "source": [
    "#  Standard Multivariate Regression\n",
    "import statsmodels.api as sm\n",
    "\n",
    "results = sm.OLS(Y, Z.T).fit()\n",
    "w_ols=results.params  #weights from ordinary least squares\n",
    "print results.summary()\n",
    "print 'Regression coefficients',w_ols\n",
    "print 'Rel.error for coefficients:', (w_ols-w)/w\n",
    "# fig=plt.figure(figsize=(12,8))\n",
    "# fig = sm.graphics.plot_partregress_grid(results, fig=fig)\n",
    "# fig = plt.figure(figsize=(12, 8))\n",
    "# fig = sm.graphics.plot_ccpr_grid(results, fig=fig)"
   ]
  },
  {
   "cell_type": "markdown",
   "metadata": {},
   "source": [
    "Observe in the 'coef' column of the summary generated by Statmodels,\n",
    "the values for the coefficients corresponding to $b_i$ in\n",
    "[(12)](#eq:meta_model) are listed, we have also computed the relative\n",
    "error of these coefficients with respect to the analytical weights\n",
    "$\\Omega_i$ in [(1)](#eq:linear_model). You may explore how how the\n",
    "relative error changes with the number of samples $N$.\n",
    "\n",
    "\n",
    "However, more widely used than the raw regression coeffients are their\n",
    "normalized equivalents, often referred to as standardized regression\n",
    "coefficients (SRCs): $\\hat{\\beta_i}= \\hat{b}_i\n",
    "\\,\\sigma_{Z_i}/\\sigma_Y$. And for our simple linear model\n",
    "[(1)](#eq:linear_model) we will get the following for a large enough\n",
    "$N$:"
   ]
  },
  {
   "cell_type": "markdown",
   "metadata": {},
   "source": [
    "<!-- Equation labels as ordinary links -->\n",
    "<div id=\"eq:src\"></div>\n",
    "\n",
    "$$\n",
    "\\begin{equation}\n",
    "\\hat{\\beta_i}= \\frac{\\hat{b}_i \\, \\sigma_{Z_i}}{\\sigma_Y} \\cong \\frac{\\Omega_i \\, \\sigma_{Z_i}}{\\sigma_Y} \n",
    "\\label{eq:src} \\tag{14}\n",
    "\\end{equation}\n",
    "$$"
   ]
  },
  {
   "cell_type": "markdown",
   "metadata": {},
   "source": [
    "which by comparison with our previous expression for the normalized derivatives in [(8)](#eq:Ss) we get:"
   ]
  },
  {
   "cell_type": "markdown",
   "metadata": {},
   "source": [
    "$$\n",
    "\\begin{equation}\n",
    "\\hat{\\beta}_i = S_{Z_i}^{\\sigma} \\qquad \\textsf{for the linear models only}\n",
    "\\label{}\n",
    "\\end{equation}\n",
    "$$"
   ]
  },
  {
   "cell_type": "markdown",
   "metadata": {},
   "source": [
    "and consequelty we get from [(11)](#eq:Ss1):"
   ]
  },
  {
   "cell_type": "markdown",
   "metadata": {},
   "source": [
    "<!-- Equation labels as ordinary links -->\n",
    "<div id=\"eq:sum_beta\"></div>\n",
    "\n",
    "$$\n",
    "\\begin{equation}\n",
    " \\sum_{i=1}^{r} \\beta_i^2 = 1\n",
    "\\label{eq:sum_beta} \\tag{15}\n",
    "\\end{equation}\n",
    "$$"
   ]
  },
  {
   "cell_type": "markdown",
   "metadata": {},
   "source": [
    "Here we state without proof that the standardized regression coeffients (SRCs)\n",
    "may be obtained by an ordinary least squares approach when the\n",
    "variables involved have been [z-score transformed](https://en.wikipedia.org/wiki/Standard_score). The z-score\n",
    "transformation is also commonly referred to as z-values, z-scores,\n",
    "normal scores, and standardized variables, and is obtained by\n",
    "subtraction of the mean and division of the standard deviation.\n",
    "\n",
    "\n",
    "In the code example below we use the z-score transformation from\n",
    "'scipy', and by performing the standard multiple regression on the\n",
    "transformed factors we get the SRCs in the column 'coef'. The SRCs are\n",
    "stored in the 'res_standardize.params' which we assign to 'src', which\n",
    "allows for direct comparison with the previously computed with the clause:"
   ]
  },
  {
   "cell_type": "markdown",
   "metadata": {},
   "source": [
    "        print 'Rel. error SRC', (beta**2-s**2)/s**2 \n"
   ]
  },
  {
   "cell_type": "markdown",
   "metadata": {},
   "source": [
    "You may experiment with the number of sample values $N$ to see how it influences the relative error."
   ]
  },
  {
   "cell_type": "code",
   "execution_count": 19,
   "metadata": {
    "collapsed": false
   },
   "outputs": [
    {
     "name": "stdout",
     "output_type": "stream",
     "text": [
      "                            OLS Regression Results                            \n",
      "==============================================================================\n",
      "Dep. Variable:                      y   R-squared:                       1.000\n",
      "Model:                            OLS   Adj. R-squared:                  1.000\n",
      "Method:                 Least Squares   F-statistic:                 6.216e+32\n",
      "Date:                Wed, 25 Jan 2017   Prob (F-statistic):               0.00\n",
      "Time:                        18:25:44   Log-Likelihood:                 16963.\n",
      "No. Observations:                 500   AIC:                        -3.392e+04\n",
      "Df Residuals:                     496   BIC:                        -3.390e+04\n",
      "Df Model:                           4                                         \n",
      "Covariance Type:            nonrobust                                         \n",
      "==============================================================================\n",
      "                 coef    std err          t      P>|t|      [95.0% Conf. Int.]\n",
      "------------------------------------------------------------------------------\n",
      "x1             0.1761   2.01e-17   8.74e+15      0.000         0.176     0.176\n",
      "x2             0.3511   2.01e-17   1.75e+16      0.000         0.351     0.351\n",
      "x3             0.5056   2.01e-17   2.51e+16      0.000         0.506     0.506\n",
      "x4             0.7763   2.01e-17   3.87e+16      0.000         0.776     0.776\n",
      "==============================================================================\n",
      "Omnibus:                        3.669   Durbin-Watson:                   1.989\n",
      "Prob(Omnibus):                  0.160   Jarque-Bera (JB):                3.688\n",
      "Skew:                          -0.209   Prob(JB):                        0.158\n",
      "Kurtosis:                       2.947   Cond. No.                         1.10\n",
      "==============================================================================\n",
      "\n",
      "Warnings:\n",
      "[1] Standard Errors assume that the covariance matrix of the errors is correctly specified.\n",
      "\n",
      "SRCs: [ 0.03100555  0.12327632  0.25558728  0.60264481]\n",
      "Rel. error SRC [-0.06983362 -0.07542762 -0.1480424   0.12995902]\n"
     ]
    }
   ],
   "source": [
    "# Scale the variables to obtain standardized regression coefficients (SRC)\n",
    "from scipy.stats.mstats import zscore\n",
    "res_standardize=sm.OLS(zscore(Y), zscore(Z.T)).fit()\n",
    "print res_standardize.summary() \n",
    "beta = res_standardize.params\n",
    "print '\\nSRCs:', beta**2\n",
    "print 'Rel. error SRC', (beta**2-s**2)/s**2"
   ]
  },
  {
   "cell_type": "markdown",
   "metadata": {},
   "source": [
    "# Normalized derivatives vs SRCs\n",
    "\n",
    "Note that the two sensitivity measures $S_{Z_i}^{\\sigma}$ in\n",
    "[(8)](#eq:Ss) and $\\beta$ in [(14)](#eq:src) are only equal for\n",
    "linear models.\n",
    "\n",
    "However, the SRCs $\\beta$s, will be more robust and reliable measures\n",
    "of sensitivity for nonlinear models, as the are multidimensionally\n",
    "averaged measures, resulting from an exploration of the entire space\n",
    "of the input factors. The $S_{Z_i}^{\\sigma}$, on the other hand, are\n",
    "computed at the midpoint of the distribution $Z_{i}$, while keeping\n",
    "all the other factors at their respective midpoints.  For small sample\n",
    "sizes $N$ and many input factors $r$, the $\\beta$s will be rather\n",
    "imprecise. Naturally, one cannot expect to explore a high-dimensional\n",
    "input space with only a handfull of samples and statistical\n",
    "significance tests are available (F-statistic, t-values, p-values), so\n",
    "that the analyst is informed about the extent of the problem.\n",
    "\n",
    "Finally, the 'R-squared'-statistic is normally reported:"
   ]
  },
  {
   "cell_type": "markdown",
   "metadata": {},
   "source": [
    "<!-- Equation labels as ordinary links -->\n",
    "<div id=\"eq:R2\"></div>\n",
    "\n",
    "$$\n",
    "\\begin{equation}\n",
    " R^2 =  \\sum_{i=1}^{r} \\beta_i^2 \n",
    "\\label{eq:R2} \\tag{16}\n",
    "\\end{equation}\n",
    "$$"
   ]
  },
  {
   "cell_type": "markdown",
   "metadata": {},
   "source": [
    "and as we have seen from [(11)](#eq:Ss1) $R^2=1$ for linear models. For\n",
    "nonlinear $R^2<1$, and is the $R^2$-value is interpreted as a measure\n",
    "of the fraction of linearity in the nonlinear model. This number\n",
    "$R^2$, which is also referred to as the coefficient of determination,\n",
    "is also equal to the fraction variance in the data $\\mathbf{Y}$, which\n",
    "is explained by the multiple regression model  [(12)](#eq:meta_model).\n",
    "\n",
    "Note that as we for linear models have:"
   ]
  },
  {
   "cell_type": "markdown",
   "metadata": {},
   "source": [
    "$$\n",
    "\\begin{equation}\n",
    " \\sum_{i=1}^{r} \\hat{\\beta}_i^2 = 1 =  \\sum_{i=1}^{r} \\left ( \\frac{\\hat{b}_i \\, \\sigma_{Z_i}}{\\sigma_Y} \\right)^2\n",
    "\\label{}\n",
    "\\end{equation}\n",
    "$$"
   ]
  },
  {
   "cell_type": "markdown",
   "metadata": {},
   "source": [
    "and conceqently by multiplication of $\\sigma_Y^{2}$ on both sides we get:"
   ]
  },
  {
   "cell_type": "markdown",
   "metadata": {},
   "source": [
    "<!-- Equation labels as ordinary links -->\n",
    "<div id=\"eq:Var\"></div>\n",
    "\n",
    "$$\n",
    "\\begin{equation}\n",
    "\\sum_{i=1}^{r}  \\frac{\\hat{b}_i \\, \\sigma_{Z_i}}=\\sigma_Y^{2}=V(Y)\n",
    "\\label{eq:Var} \\tag{17}\n",
    "\\end{equation}\n",
    "$$"
   ]
  },
  {
   "cell_type": "markdown",
   "metadata": {},
   "source": [
    "where $V(Y)$ indicates the variance of $Y$. Note that both\n",
    "[(17)](#eq:Var) and [(8)](#eq:Ss) are variance decomposition forumulas,\n",
    "i.e. formulas aportion the contribution of each factor $Z_i$ to the\n",
    "variance of the model $Y$.\n",
    "\n",
    "What we seek are such variance decomopsition formulas for general,\n",
    "nonlinear models, i.e. when $R^2$ is low. One such 'model free'\n",
    "sensitivity measure is based on averaged partial variances, which we\n",
    "will describe below.\n",
    "\n",
    "# Polynomial chaos expansion"
   ]
  },
  {
   "cell_type": "code",
   "execution_count": 20,
   "metadata": {
    "collapsed": false
   },
   "outputs": [
    {
     "name": "stdout",
     "output_type": "stream",
     "text": [
      "Expected value from cp= 0.00546353638331    std= 10.9457286069\n",
      "Sensitivity indices from polychaos [ 0.03360065  0.13315538  0.29988345  0.53334756]\n",
      "rel err [  8.01950023e-03  -1.33465511e-03  -3.88493296e-04   2.66661847e-05]\n"
     ]
    }
   ],
   "source": [
    "# Polychaos computations\n",
    "Npc=80\n",
    "jpdf = cp.J(cp.Normal(zm[0,0],zm[0,1]),cp.Normal(zm[1,0],zm[1,1]),cp.Normal(zm[2,0],zm[2,1]),cp.Normal(zm[3,0],zm[3,1]))\n",
    "Zpc=jpdf.sample(Npc)\n",
    "Ypc=linear_model(w, Zpc, Npc)\n",
    "Npol=4\n",
    "poly = cp.orth_chol(Npol, jpdf)\n",
    "approx = cp.fit_regression(poly, Zpc, Ypc, rule=\"T\")\n",
    "\n",
    "print 'Expected value from cp=', cp.E(approx,jpdf), '   std=',cp.Std(approx,jpdf)\n",
    "s_pc= cp.Sens_m(approx,jpdf)\n",
    "print 'Sensitivity indices from polychaos', s_pc\n",
    "print 'rel err', (s_pc-s**2)/s**2"
   ]
  },
  {
   "cell_type": "code",
   "execution_count": 21,
   "metadata": {
    "collapsed": false
   },
   "outputs": [
    {
     "data": {
      "text/plain": [
       "<matplotlib.text.Text at 0x122e79bd0>"
      ]
     },
     "execution_count": 21,
     "metadata": {},
     "output_type": "execute_result"
    },
    {
     "data": {
      "image/png": "[encoded data removed]",
      "text/plain": [
       "<matplotlib.figure.Figure at 0x122d55e50>"
      ]
     },
     "metadata": {},
     "output_type": "display_data"
    }
   ],
   "source": [
    "# Polychaos convergence\n",
    "Npc_list=np.logspace(1,3,10).astype(int)\n",
    "error=[]\n",
    " \n",
    "for i,Npc in enumerate(Npc_list):\n",
    "    Zpc=jpdf.sample(Npc)\n",
    "    Ypc=linear_model(w, Zpc, Npc)\n",
    "    Npol=4\n",
    "    poly = cp.orth_chol(Npol, jpdf)\n",
    "    approx = cp.fit_regression(poly, Zpc, Ypc, rule=\"T\")\n",
    "    s_pc= cp.Sens_m(approx,jpdf)\n",
    "    error.append(LA.norm((s_pc-s**2)/s**2))\n",
    " \n",
    "plt.figure()\n",
    "plt.semilogy(Npc_list,error)\n",
    "plt.xlabel('Nr samples')\n",
    "plt.ylabel('L2-norm of error in Sobol indices')"
   ]
  },
  {
   "cell_type": "markdown",
   "metadata": {},
   "source": [
    "# Conditional variances"
   ]
  },
  {
   "cell_type": "code",
   "execution_count": 22,
   "metadata": {
    "collapsed": false
   },
   "outputs": [
    {
     "data": {
      "image/png": "[encoded data removed]",
      "text/plain": [
       "<matplotlib.figure.Figure at 0x122e678d0>"
      ]
     },
     "metadata": {},
     "output_type": "display_data"
    }
   ],
   "source": [
    "# Scatter plots of averaged data\n",
    "Zsorted =np.zeros_like(Z)\n",
    "Ysorted =np.zeros_like(Z)\n",
    "\n",
    "plt.figure()\n",
    "plt.title('Slices')\n",
    "# sort data\n",
    "for k in range(r):\n",
    "    plt.subplot(2,2,k+1)\n",
    "    sidx = np.argsort(Z[k,:])\n",
    "    Zsorted[k,:]=Z[k,sidx].copy()   \n",
    "    Ysorted[k,:]=Y[sidx].copy()   \n",
    "\n",
    "# average data\n",
    "# slice and plot\n",
    "\n",
    "\n",
    "# slice data\n",
    "Ndz=10\n",
    "\n",
    "Zslice = np.zeros((r,Ndz))\n",
    "Yslice = np.zeros((r,Ndz))\n",
    "ZBndry = np.zeros((r,Ndz+1))\n",
    "\n",
    "dz=np.zeros(r)\n",
    "for k in range(r):\n",
    "    dz[k] = (np.max(Zsorted[k,:] - np.min(Zsorted[k,:])) )/Ndz\n",
    "    \n",
    "    ZBndry[k,:] = np.linspace(np.min(Zsorted[k,:]),np.max(Zsorted[k,:]), Ndz+1)\n",
    "    Zslice[k,:] = np.linspace(np.min(Zsorted[k,:])+dz[k]/2.,np.max(Zsorted[k,:])-dz[k]/2., Ndz)\n",
    "                                          \n",
    "    for i in range(Ndz):\n",
    "        zidx_range=np.logical_and(Zsorted[k,:]>=ZBndry[k,i],Zsorted[k,:]<ZBndry[k,i+1])\n",
    "        \n",
    "                    \n",
    "        if np.any(zidx_range):    #check if range has elements\n",
    "            Yslice[k,i]=np.mean(Ysorted[k,zidx_range])\n",
    "        else:                     #set value to None if noe elements in z-slice\n",
    "            Yslice[k,i]=None\n",
    "    \n",
    "\n",
    "#print np.argwhere(np.isnan(Zslice))            \n",
    "#print Zslice\n",
    "#print Yslice\n",
    "\n",
    "\n",
    "for k in range(r):\n",
    "    plt.subplot(2,2,k+1)\n",
    "        \n",
    "    for i in range(Ndz):\n",
    "        plt.axvline(ZBndry[k,i], np.amin(Y), np.amax(Y))        \n",
    "\n",
    "    plt.plot(Zslice[k,:],Yslice[k,:],'.')\n",
    "    xlbl='Z'+str(k)\n",
    "    plt.xlabel(xlbl)\n",
    "    plt.ylabel('Y')\n",
    "    \n",
    "    # true linear model\n",
    "    Nlin=10\n",
    "    zmin=np.min(Zslice[k,:]); zmax=np.max(Zslice[k,:])\n",
    "    zvals=np.linspace(zmin,zmax,Nlin)\n",
    "    yvals=linear_model(w[k],zvals,Nlin)\n",
    "#    plt.plot(zvals,yvals)\n",
    "#    plt.ylim([np.amin(Yslice),np.amax(Yslice)])\n",
    "#     plt.xlim([np.amin(Z),np.amax(Z)])\n",
    "#    plt.ylim([-25,15])"
   ]
  },
  {
   "cell_type": "code",
   "execution_count": 23,
   "metadata": {
    "collapsed": false
   },
   "outputs": [
    {
     "data": {
      "image/png": "[encoded data removed]",
      "text/plain": [
       "<matplotlib.figure.Figure at 0x122e26190>"
      ]
     },
     "metadata": {},
     "output_type": "display_data"
    }
   ],
   "source": [
    "# # Scatter plots of data and regression lines \n",
    "plt.figure()\n",
    "for k in range(r):\n",
    "    plt.subplot(2,2,k+1)\n",
    "    \n",
    "    for i in range(Ndz):\n",
    "        plt.axvline(ZBndry[k,i], np.amin(Y), np.amax(Y))        \n",
    "\n",
    "    zmin=np.min(Z[k,:])\n",
    "    zmax=np.max(Z[k,:])\n",
    "    zvals=np.linspace(zmin,zmax,N)\n",
    "    yvals=linear_model(w[k],zvals,N)\n",
    "    plt.plot(Z[k,:],Y[:],'.',zvals,yvals)\n",
    "    xlbl='Z'+str(k)\n",
    "    plt.xlabel(xlbl)"
   ]
  },
  {
   "cell_type": "markdown",
   "metadata": {},
   "source": [
    "# References\n",
    "\n",
    " 1. <div id=\"saltelli_global_2008\"></div> **A. (Andrea) Saltelli**. \n",
    "    *Global Sensitivity Analysis : the Primer*,\n",
    "    John Wiley,,\n",
    "    2008."
   ]
  }
 ],
 "metadata": {
  "anaconda-cloud": {},
  "kernelspec": {
   "display_name": "Python [default]",
   "language": "python",
   "name": "python2"
  },
  "language_info": {
   "codemirror_mode": {
    "name": "ipython",
    "version": 2
   },
   "file_extension": ".py",
   "mimetype": "text/x-python",
   "name": "python",
   "nbconvert_exporter": "python",
   "pygments_lexer": "ipython2",
   "version": "2.7.13"
  }
 },
 "nbformat": 4,
 "nbformat_minor": 2
}
