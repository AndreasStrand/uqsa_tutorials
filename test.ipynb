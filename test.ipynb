TITLE: Uncertainty quantification and sensitivity analysis for arterial wall models
AUTHOR: Vinzenz Gregor Eck, Expert Analytics, Oslo
DATE: today
TOC: on

## %%Mako functions and variables
## %%include "mako.txt"

@@@CODE ./ipynb_header.py

!bc pyhid
import chaospy as cp
from monte_carlo import generate_sample_matrices_mc
from monte_carlo import calculate_sensitivity_indices_mc
unit_mmhg_pa = 133.3
unit_pa_mmhg = 1./unit_mmhg_pa
unit_cm2_m2 = 1. / 100. / 100.
unit_m2_cm2 = 1. / unit_cm2_m2
!ec

======= Introduction =======
label{sec:introduction}
The arterial wall models we are investigating in this part, are used to describe the (visco-)elastic behaviour of arteries in one-dimensional
simulations of the cardiovascular system.

======= Arterial Wall Models =======
label{sec:polynomialChaos}

The elastic wall models are simplified algebraic functions $A(P)$ (cite{eck2015stochastic,boileau_benchmark_2015}),
which state the arterial lumen area $A$ as function of transmural pressure $P$.

For the calibration of the applied wall models, the wave speed in an arterial segment is required.
The wave speed is given from fluid dynamics equations for one-dimensional arteries (cite{eck2015stochastic}):
!bt
\begin{align}
\label{eq:defwaveSpeed}
c(P) = \sqrt{\frac{A(P)}{\rho\ C(P)}},
\end{align}
!et
with blood density $\rho= 1050\ [kg\ m^{-3}]$ and compliance $C(P) = dA / dP$.

===== *Quadratic* model =====
The *Quadratic* area-pressure relationship (cite{sherwin2003}) is defined as:

!bt
\begin{align}
A(P) = \left((P-P_s) \frac{A_s}{\lambda} + \sqrt{A_s} \right)^2,
\label{eq:lapArea}
\end{align}
!et

where $\lambda$ is referred to as the stiffness coefficient and $A_s$
is the area at the reference pressure $P_s$.

The stiffness coefficient $\lambda$ is defined as:
!bt
\begin{align}
\lambda = \frac{2 \rho c_s^2 A_s}{\sqrt{A_s}}
\end{align}
!et

The model is implemented in the following function:
@@@CODE ./example_wall_models.py fromto: # begin quadratic area model@# end quadratic area model

===== *Logarithmic* model =====
The *Logarithmic* area-pressure relationship (cite{Hayashi1980}) is defined as:

!bt
\begin{align}
A(P) = A_s \left( 1 + \frac{1}{\beta} ln \left(\frac{P}{P_s}\right) \right)^2,
\label{eq:expArea}
\end{align}
!et

where $\beta$ is called the stiffness coefficient and $A_s$ is the
area at the reference pressure $P_s$.

The stiffness coefficient $\beta$ is defined as:
!bt
\begin{align}
\beta = \frac{2\ \rho c_s^2}{P_s}
\end{align}
!et

The model is implemented in the following function:
@@@CODE ./example_wall_models.py fromto: # begin exponential area model@# end exponential area model

===== Comparison =====

For a comparison of the wall models, we set the reference values to:
!bt
\begin{align*}
A_s &= 5.12 cm2 \\
c_s &= 6.256 m/s \\
P_s &= 100 mmHg \\
rho &= 1045 kg/m3 \\
\end{align*}
!et

The two wall models give almost the same result around the reference area and pressure, for which the model was calibrated.

@@@CODE ./example_wall_models.py fromto: # start deterministic comparison@# end deterministic comparison

======= Uncertainty Quantification and Sensitivity Analysis =======
label{sec:uqsa}

===== Definition of uncertain input parameters =====
For each model input, we define a uniform distributed random variable which varies with a deviation of $5\%$ around the deterministic value from above:
!bt
\begin{align*}
A_s &= 5.12 cm2 \quad Z_0 = \mbox{U}(4.864, 5.376) \\
c_s &= 6.256 m/s \quad Z_1 = \mbox{U}(5.943, 6.569) \\
P_s &= 100 mmHg \quad Z_2 = \mbox{U}(95.0, 105.0) \\
rho &= 1045 kg/m3 \quad Z_3 = \mbox{U}(992.75, 1097.25) \\
\end{align*}
!et

@@@CODE ./example_wall_models.py fromto: # Create marginal and joint distributions@# End Create marginal and joint distributions

===== Scatter plots and Samples =====

@@@CODE ./example_wall_models.py fromto: # scatter plots@# end scatter plots

===== Monte Carlo =====

We apply the Monte Carlo method for both models as discussed before:

@@@CODE ./example_wall_models.py fromto: # start Monte Carlo@# end Monte Carlo

===== Polynomial chaos =====

We apply the Polynomial Chaos method for both models as discussed before:

@@@CODE ./example_wall_models.py fromto: # start polynomial chaos@# end polynomial chaos

======= References =======

BIBFILE: ../papers.pub
