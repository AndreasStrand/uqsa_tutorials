{
 "cells": [
  {
   "cell_type": "markdown",
   "metadata": {},
   "source": [
    "<!-- dom:TITLE: Higher order sensitivity indices for non-additive models -->\n",
    "# Higher order sensitivity indices for non-additive models\n",
    "<!-- dom:AUTHOR: Leif Rune Hellevik at Department of Structural Engineering, NTNU -->\n",
    "<!-- Author: --> **Leif Rune Hellevik**, Department of Structural Engineering, NTNU\n",
    "\n",
    "<!-- dom:AUTHOR: Vinzenz Gregor Eck at Expert Analytics -->\n",
    "<!-- Author: --> **Vinzenz Gregor Eck**, Expert Analytics\n",
    "\n",
    "Date: **Mar 21, 2017**"
   ]
  },
  {
   "cell_type": "code",
   "execution_count": 1,
   "metadata": {
    "collapsed": true
   },
   "outputs": [],
   "source": [
    "%matplotlib inline\n",
    "\n",
    "%matplotlib inline\n",
    "%load_ext autoreload\n",
    "%autoreload 2\n",
    "import numpy as np\n",
    "import matplotlib.pyplot as plt\n",
    "import chaospy as cp\n",
    "from sensitivity_examples_nonlinear import calculate_sensitivity_indices_non_additive_model\n",
    "import monte_carlo"
   ]
  },
  {
   "cell_type": "markdown",
   "metadata": {},
   "source": [
    "# Introduction\n",
    "<div id=\"sec:introduction\"></div>\n",
    "\n",
    "This chapter introduces to higher order sensitivity indices.\n",
    "These indices are needed if for sensitivity analysis of non-additive models.\n",
    "\n",
    "In numerical analysis we usually differ between linear and non-linear models.A linear model is for example:"
   ]
  },
  {
   "cell_type": "markdown",
   "metadata": {},
   "source": [
    "<!-- Equation labels as ordinary links -->\n",
    "<div id=\"eq:linear_model\"></div>\n",
    "\n",
    "$$\n",
    "\\begin{equation}\n",
    "Y =  \\sum_{i=1}^{r} \\Omega_i \\, Z_i\n",
    "\\label{eq:linear_model} \\tag{1}\n",
    "\\end{equation}\n",
    "$$"
   ]
  },
  {
   "cell_type": "markdown",
   "metadata": {},
   "source": [
    "A non-linear variation of this model:"
   ]
  },
  {
   "cell_type": "markdown",
   "metadata": {},
   "source": [
    "<!-- Equation labels as ordinary links -->\n",
    "<div id=\"eq:nonlinear_model\"></div>\n",
    "\n",
    "$$\n",
    "\\begin{equation}\n",
    "Y = \\sum_{i=1}^{r} \\Omega_i \\, Z_i^2\n",
    "\\label{eq:nonlinear_model} \\tag{2}\n",
    "\\end{equation}\n",
    "$$"
   ]
  },
  {
   "cell_type": "markdown",
   "metadata": {},
   "source": [
    "For sensitivity analysis we introduce another model property: additive and non-additive.\n",
    "\n",
    "Definition: A model is additive if it is possible to separate the effect of its input variables in a\n",
    "variance decompositionframework.\n",
    "\n",
    "That means for an additive model:"
   ]
  },
  {
   "cell_type": "markdown",
   "metadata": {},
   "source": [
    "<!-- Equation labels as ordinary links -->\n",
    "<div id=\"_auto1\"></div>\n",
    "\n",
    "$$\n",
    "\\begin{equation}\n",
    "\\sum_{i=1}^{r} S_i = 1,\n",
    "\\label{_auto1} \\tag{3}\n",
    "\\end{equation}\n",
    "$$"
   ]
  },
  {
   "cell_type": "markdown",
   "metadata": {},
   "source": [
    "whereas for an non-additive model:"
   ]
  },
  {
   "cell_type": "markdown",
   "metadata": {},
   "source": [
    "<!-- Equation labels as ordinary links -->\n",
    "<div id=\"_auto2\"></div>\n",
    "\n",
    "$$\n",
    "\\begin{equation}\n",
    "\\sum_{i=1}^{r} S_i < = 1.\n",
    "\\label{_auto2} \\tag{4}\n",
    "\\end{equation}\n",
    "$$"
   ]
  },
  {
   "cell_type": "markdown",
   "metadata": {},
   "source": [
    "Both models ([eq:linear_model](#eq:linear_model)) and ([eq:nonlinear_model](#eq:nonlinear_model)) are additive models.\n",
    "An example for an non-additive model is:"
   ]
  },
  {
   "cell_type": "markdown",
   "metadata": {},
   "source": [
    "<!-- Equation labels as ordinary links -->\n",
    "<div id=\"_auto3\"></div>\n",
    "\n",
    "$$\n",
    "\\begin{equation}\n",
    "Y = \\prod_{i=1}^{r} \\Omega_i \\, Z_i^2,\n",
    "\\label{_auto3} \\tag{5}\n",
    "\\end{equation}\n",
    "$$"
   ]
  },
  {
   "cell_type": "markdown",
   "metadata": {},
   "source": [
    "since all input variables are multiplied with each other, it is not possible to separate the effects with\n",
    "variance decomposition.\n",
    "For this reason another measure is needed it the model is non-additive.\n",
    "In the previous chapter we also discussed the standardized regression coefficients $\\beta_i$ as sensitivity measure.\n",
    "However, these measures have an even stronger restriction since:"
   ]
  },
  {
   "cell_type": "markdown",
   "metadata": {},
   "source": [
    "<!-- Equation labels as ordinary links -->\n",
    "<div id=\"eq:reg_sum\"></div>\n",
    "\n",
    "$$\n",
    "\\begin{equation}\n",
    "\\sum_{i=1}^{r} \\beta_i^2 = 1 \\label{eq:reg_sum} \\tag{6}\n",
    "\\end{equation}\n",
    "$$"
   ]
  },
  {
   "cell_type": "markdown",
   "metadata": {},
   "source": [
    "is only valid for linear (thus, additive) models.\n",
    "\n",
    "Before we introduce higher order sensitivity coefficients we will repeat our analysis of the first example for a non-additive model.\n",
    "\n",
    "# The non-additive model\n",
    "<div id=\"sec:non_additive_model\"></div>\n",
    "\n",
    "Now we consider the same numerical model as before:"
   ]
  },
  {
   "cell_type": "markdown",
   "metadata": {},
   "source": [
    "<!-- Equation labels as ordinary links -->\n",
    "<div id=\"eq:non_add_model\"></div>\n",
    "\n",
    "$$\n",
    "\\begin{equation}\n",
    "Y = \\sum_{i=1}^{r} \\Omega_i \\, Z_i\n",
    "\\label{eq:non_add_model} \\tag{7}\n",
    "\\end{equation}\n",
    "$$"
   ]
  },
  {
   "cell_type": "markdown",
   "metadata": {},
   "source": [
    "but we now we consider $\\Omega_i$ as well as random input factors.\n",
    "\n",
    "We define the input factors as normal distributed random variables:"
   ]
  },
  {
   "cell_type": "markdown",
   "metadata": {},
   "source": [
    "<!-- Equation labels as ordinary links -->\n",
    "<div id=\"eq:NZi\"></div>\n",
    "\n",
    "$$\n",
    "\\begin{equation}\n",
    "Z_i \\sim N(0, \\sigma_{Z_i}), \\qquad i=1,2, \\ldots, r \\label{eq:NZi} \\tag{8} \n",
    "\\end{equation}\n",
    "$$"
   ]
  },
  {
   "cell_type": "markdown",
   "metadata": {},
   "source": [
    "<!-- Equation labels as ordinary links -->\n",
    "<div id=\"eq:NOi\"></div>\n",
    "\n",
    "$$\n",
    "\\begin{equation} \n",
    "\\Omega_i \\sim N(\\mu_{\\Omega_i}, \\sigma_{\\Omega_i}), \\qquad i=1,2, \\ldots, r. \\label{eq:NOi} \\tag{9} \n",
    "\\end{equation}\n",
    "$$"
   ]
  },
  {
   "cell_type": "markdown",
   "metadata": {},
   "source": [
    "<!-- Equation labels as ordinary links -->\n",
    "<div id=\"_auto4\"></div>\n",
    "\n",
    "$$\n",
    "\\begin{equation} \n",
    "\\label{_auto4} \\tag{10}\n",
    "\\end{equation}\n",
    "$$"
   ]
  },
  {
   "cell_type": "markdown",
   "metadata": {},
   "source": [
    "The distributions of $Z_i$ are not changed.\n",
    "The mean values $\\mu_{\\Omega_i}$ of the distributions of $\\Omega_i$ are chosen to be non-zero:"
   ]
  },
  {
   "cell_type": "markdown",
   "metadata": {},
   "source": [
    "<!-- Equation labels as ordinary links -->\n",
    "<div id=\"_auto5\"></div>\n",
    "\n",
    "$$\n",
    "\\begin{equation}\n",
    "\\mu_{\\Omega_i} = 0.5 i, \\qquad i=1,2, \\ldots, r.\n",
    "\\label{_auto5} \\tag{11}\n",
    "\\end{equation}\n",
    "$$"
   ]
  },
  {
   "cell_type": "markdown",
   "metadata": {},
   "source": [
    "The python code for the model is:"
   ]
  },
  {
   "cell_type": "code",
   "execution_count": 2,
   "metadata": {
    "collapsed": false
   },
   "outputs": [],
   "source": [
    "# start the linear model\n",
    "def linear_model(w, z):\n",
    "    assert w.shape == z.shape\n",
    "    return np.sum(w*z, axis=1)"
   ]
  },
  {
   "cell_type": "markdown",
   "metadata": {},
   "source": [
    "# Definition of the random input variables\n",
    "\n",
    "Again we use the chaospy package to define our random input variables in a function.\n",
    "In this example we choose to set $r=4$.\n",
    "\n",
    "The definition of all marginal and the joint distribution is:"
   ]
  },
  {
   "cell_type": "code",
   "execution_count": 3,
   "metadata": {
    "collapsed": false
   },
   "outputs": [],
   "source": [
    "# definition of the distributions for r = 4\n",
    "def generate_distributions():\n",
    "\n",
    "    # define marginal distributions\n",
    "    Z_1 = cp.Normal(0, 1)\n",
    "    Z_2 = cp.Normal(0, 2)\n",
    "    Z_3 = cp.Normal(0, 3)\n",
    "    Z_4 = cp.Normal(0, 4)\n",
    "\n",
    "    O_1 = cp.Normal(0.5*1, 1)\n",
    "    O_2 = cp.Normal(0.5*2, 2)\n",
    "    O_3 = cp.Normal(0.5*3, 3)\n",
    "    O_4 = cp.Normal(0.5*4, 4)\n",
    "\n",
    "    # define joint distributions\n",
    "    joint_distribution = cp.J(Z_1, Z_2, Z_3, Z_4, O_1, O_2, O_3, O_4)\n",
    "    return joint_distribution"
   ]
  },
  {
   "cell_type": "markdown",
   "metadata": {},
   "source": [
    "# First order sensitivity coefficients"
   ]
  },
  {
   "cell_type": "code",
   "execution_count": 4,
   "metadata": {
    "collapsed": false
   },
   "outputs": [],
   "source": [
    "    # sensitivity reference values\n",
    "    S_book = np.array([0.0006, 0.009, 0.046, 0.145, 0, 0, 0, 0])\n",
    "    St_book = np.array([0.003, 0.045, 0.229, 0.723, 0.002, 0.036, 0.183, 0.578])\n",
    "\n",
    "    # get joint distributions\n",
    "    joint_distribution = generate_distributions()\n",
    "\n",
    "    number_of_samples = 1000000\n",
    "    A, B, C, Y_A, Y_B, Y_C, S, ST = calculate_sensitivity_indices_non_additive_model(number_of_samples,\n",
    "                                                                                     joint_distribution)\n",
    "\n",
    "    print(\"First Order Indices           Total Sensitivity Indices\\n\")\n",
    "    print('       S_est | S_ref                 ST_est | ST_ref\\n')\n",
    "    for k, (s, sb, s_t, sb_t) in enumerate(zip(S, S_book, ST, St_book)):\n",
    "        print('S_{} : {:>6.3f} | {:2.3f}          ST_{} : {:>6.3f} | {:2.3f}'.format(k + 1, s, sb, k+1, s_t, sb_t))"
   ]
  },
  {
   "cell_type": "markdown",
   "metadata": {},
   "source": [
    "# Scatter plots"
   ]
  },
  {
   "cell_type": "code",
   "execution_count": 5,
   "metadata": {
    "collapsed": false
   },
   "outputs": [],
   "source": [
    "    # Scatter plots of data for visual inspection of sensitivity\n",
    "    scatter = plt.figure('Scatter plots')\n",
    "    scatter.suptitle('Scatter plots')\n",
    "    n_samples_to_plot = 500\n",
    "\n",
    "    number_of_parameters = len(joint_distribution)\n",
    "    n_factors = number_of_parameters/2\n",
    "    for k in range(n_factors):\n",
    "        plt.subplot(2, n_factors, k + 1)\n",
    "        plt.plot(A[:n_samples_to_plot, k], Y_A[:n_samples_to_plot], '.')\n",
    "        plt.xlabel('Z{}'.format(k+1))\n",
    "        plt.ylabel('Y')\n",
    "        plt.ylim([-150, 150])\n",
    "\n",
    "        plt.subplot(2, n_factors, k + 1 + n_factors)\n",
    "        plt.plot(A[:n_samples_to_plot, k+4], Y_A[:n_samples_to_plot], '.')\n",
    "        plt.xlabel('W{}'.format(k+1))\n",
    "        plt.ylabel('Y')\n",
    "        plt.ylim([-150, 150])"
   ]
  },
  {
   "cell_type": "markdown",
   "metadata": {},
   "source": [
    "# Convergence Analysis\n",
    "This may take a while, be patient!\n",
    "You can also reduce iteration number for averaging."
   ]
  },
  {
   "cell_type": "code",
   "execution_count": 6,
   "metadata": {
    "collapsed": false
   },
   "outputs": [],
   "source": [
    "#     # Random sampling\n",
    "#     list_of_samples = np.array([10000, 50000, 100000, 500000, 1000000])\n",
    "#     s_err = np.zeros((len(list_of_samples), number_of_parameters))\n",
    "#     st_err = np.zeros((len(list_of_samples), number_of_parameters))\n",
    "#     # average over\n",
    "#     number_of_iterations = 10\n",
    "#     for i, n_samples in enumerate(list_of_samples):\n",
    "#         for j in range(number_of_iterations):\n",
    "#             A, B, C, Y_A, Y_B, Y_C, S, ST = calculate_sensitivity_indices_non_additive_model(n_samples,\n",
    "#                                                                                              joint_distribution,\n",
    "#                                                                                              sample_method='R')\n",
    "#             s_err[i] += np.abs(S - S_book)\n",
    "#             st_err[i] += np.abs(ST - St_book)\n",
    "#         s_err[i] /= float(number_of_iterations)\n",
    "#         st_err[i] /= float(number_of_iterations)\n",
    "# \n",
    "#     fig_random = plt.figure('Random sampling - average of indices')\n",
    "#     fig_random.suptitle('Random sampling - average of indices')\n",
    "# \n",
    "#     ax = plt.subplot(1, 2, 1)\n",
    "#     plt.title('First order sensitivity indices')\n",
    "#     plt.plot(list_of_samples / 1000, np.sum(s_err, axis=1), '-')\n",
    "#     ax.set_yscale('log')\n",
    "#     plt.ylabel('abs error')\n",
    "#     plt.xlabel('number of samples [1e3]')\n",
    "# \n",
    "#     ax1 = plt.subplot(1, 2, 2)\n",
    "#     plt.title('Total sensitivity indices')\n",
    "#     plt.plot(list_of_samples / 1000, np.sum(st_err, axis=1), '-')\n",
    "#     ax1.set_yscale('log')\n",
    "#     plt.ylabel('abs error')\n",
    "#     plt.xlabel('number of samples [1e3]')\n",
    "#"
   ]
  },
  {
   "cell_type": "markdown",
   "metadata": {},
   "source": [
    "Plotting the individual sensitivity indices:"
   ]
  },
  {
   "cell_type": "code",
   "execution_count": 7,
   "metadata": {
    "collapsed": false
   },
   "outputs": [],
   "source": [
    "#     # figure individual\n",
    "#     fig_random = plt.figure('Random sampling')\n",
    "#     fig_random.suptitle('Random sampling')\n",
    "#     for l, (s_e, st_e) in enumerate(zip(s_err.T, st_err.T)):\n",
    "#         ax = plt.subplot(1, 2, 1)\n",
    "#         plt.title('First order sensitivity indices')\n",
    "#         plt.plot(list_of_samples/1000, s_e, '-', label='S_{}'.format(l))\n",
    "#         ax.set_yscale('log')\n",
    "#         plt.ylabel('abs error')\n",
    "#         plt.xlabel('number of samples [1e3]')\n",
    "#         plt.legend()\n",
    "# \n",
    "#         ax1 = plt.subplot(1, 2, 2)\n",
    "#         plt.title('Total sensitivity indices')\n",
    "#         plt.plot(list_of_samples/1000, st_e, '-', label='ST_{}'.format(l))\n",
    "#         ax1.set_yscale('log')\n",
    "#         plt.ylabel('abs error')\n",
    "#         plt.xlabel('number of samples [1e3]')\n",
    "#         plt.legend()\n",
    "#"
   ]
  },
  {
   "cell_type": "markdown",
   "metadata": {},
   "source": [
    "# References"
   ]
  }
 ],
 "metadata": {},
 "nbformat": 4,
 "nbformat_minor": 2
}
