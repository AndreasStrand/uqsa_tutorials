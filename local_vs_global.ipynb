{
 "cells": [
  {
   "cell_type": "markdown",
   "metadata": {},
   "source": [
    "# Local versus global sensitivity analysis\n",
    "\n",
    "Motivation and useful purposes of sensitivity analysis\n",
    "\n",
    " * Parameter prioritization of parameters of high sensitivity (importance)\n",
    "\n",
    " * Parameter fixation of parameters of low sensitivity (importance)\n",
    "\n",
    " * Reveal surprising relations/properties of the model\n",
    "\n",
    " * Indentify critical regions in the input parameter space\n",
    "\n",
    "## Local approaches based on derivatives\n",
    "\n",
    "Many sensitivity analyses found in the scientific literature are based\n",
    "on derivatives.  This fact has naturally a rational basis as the\n",
    "partial derivative $\\partial y/\\partial Z_i$ of a model predicion $y$\n",
    "with respect to an input $Z_i$, can be understood as the mathematical\n",
    "representation of the sensitivity of $y$ with respect to $Z_i$.\n",
    "\n",
    "Even though a local, partial derivative approach is computationally\n",
    "inexpensive it has in general limited usage for nonlinear models. The\n",
    "derivatives are linearizations of the model sensitivities around the\n",
    "point in the parameter space at which they are evaluated, and may only\n",
    "be extrapolated to provide information on the sensitivity in other\n",
    "regions of the parameter space in the case of a linear model.\n",
    "\n",
    "In the current exposition we will therefore present methods based on a\n",
    "judicious exploration of the parameter space and argue for that it is\n",
    "far more informative and useful (in the sense of being informative and\n",
    "robust) to explore the parameter space at a handful of points, rather\n",
    "than estimating derivatives at a single data point in the center."
   ]
  }
 ],
 "metadata": {},
 "nbformat": 4,
 "nbformat_minor": 0
}
